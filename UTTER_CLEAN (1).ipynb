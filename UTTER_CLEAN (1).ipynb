{
  "nbformat": 4,
  "nbformat_minor": 0,
  "metadata": {
    "colab": {
      "provenance": []
    },
    "kernelspec": {
      "name": "python3",
      "display_name": "Python 3"
    },
    "language_info": {
      "name": "python"
    }
  },
  "cells": [
    {
      "cell_type": "code",
      "execution_count": 4,
      "metadata": {
        "colab": {
          "base_uri": "https://localhost:8080/"
        },
        "id": "mNocJ22BffDe",
        "outputId": "0e2f1aca-9d77-4ca5-e3f0-4a1e1ca8ddfb"
      },
      "outputs": [
        {
          "output_type": "stream",
          "name": "stdout",
          "text": [
            "                                               Utterances  \\\n",
            "0       |---------------------------------------------...   \n",
            "1       |Paying my bill                               ...   \n",
            "2       |Check on billing                             ...   \n",
            "3       |The reason my bill went up                   ...   \n",
            "4       |About my bill                                ...   \n",
            "...                                                   ...   \n",
            "205506  |I have a I have a bill here from charter spec...   \n",
            "205507  |See if the phone bill been paid              ...   \n",
            "205508  |I want to talk about how high my bill is     ...   \n",
            "205509  |To get my father's bill lowered              ...   \n",
            "205510  |Pay the last past due bill                   ...   \n",
            "\n",
            "                                        Cleaned Utterance  \n",
            "0       ----------------------------------------------...  \n",
            "1       aying my bill                                 ...  \n",
            "2       heck on billing                               ...  \n",
            "3       he reason my bill went up                     ...  \n",
            "4       bout my bill                                  ...  \n",
            "...                                                   ...  \n",
            "205506   have a I have a bill here from charter spectr...  \n",
            "205507  ee if the phone bill been paid                ...  \n",
            "205508   want to talk about how high my bill is       ...  \n",
            "205509  o get my father's bill lowered                ...  \n",
            "205510  ay the last past due bill                     ...  \n",
            "\n",
            "[204263 rows x 2 columns]\n"
          ]
        }
      ],
      "source": [
        "import pandas as pd\n",
        "\n",
        "# Load the data\n",
        "data = pd.read_csv(\"/content/Bill Transcription Utterances (1) [MConverter.eu] - Bill Transcription Utterances (1) [MConverter.eu].csv.csv\")\n",
        "\n",
        "# Create a DataFrame\n",
        "df = pd.DataFrame(data)\n",
        "\n",
        "# Define a list of harsh language and curse words for filtering\n",
        "harsh_language = [\"shit\", \"whore\", \"bitch\", \"dumb ass\", \"fuck\"]\n",
        "\n",
        "# Function to clean the utterances\n",
        "def clean_utterance(utterance):\n",
        "    # Strictly remove the \"|\" if it's at the beginning of the utterance\n",
        "    if utterance.startswith(\"|\"):\n",
        "        utterance = utterance[1:]\n",
        "    if utterance.endswith(\"|\"):\n",
        "        utterance = utterance[1:]\n",
        "\n",
        "\n",
        "    # Check for harsh language and curse words\n",
        "    for word in harsh_language:\n",
        "        if word in utterance.lower():\n",
        "            return None  # Return None if any harsh word is found\n",
        "\n",
        "    return utterance\n",
        "\n",
        "# Apply the function to the 'Utterance' column\n",
        "df['Cleaned Utterance'] = df['Utterances'].apply(clean_utterance)\n",
        "\n",
        "# Remove rows with None values in 'Cleaned Utterance'\n",
        "df.dropna(subset=['Cleaned Utterance'], inplace=True)\n",
        "\n",
        "# Save the cleaned DataFrame to a new CSV file\n",
        "df.to_csv(\"/content/cleaned_utterances.csv\", index=False)\n",
        "\n",
        "# Display the cleaned DataFrame\n",
        "print(df)\n"
      ]
    },
    {
      "cell_type": "code",
      "source": [
        "import pandas as pd\n",
        "\n",
        "# Load the data\n",
        "data = pd.read_csv(\"/content/Bill Transcription Utterances (1) [MConverter.eu] - Bill Transcription Utterances (1) [MConverter.eu].csv.csv\")\n",
        "\n",
        "# Define a list of harsh language and curse words for filtering\n",
        "harsh_language = [\"shit\", \"whore\", \"bitch\", \"dumb ass\", \"fuck\"]\n",
        "\n",
        "# Function to clean the utterances\n",
        "def clean_utterance(utterance):\n",
        "    # Remove the \"|\" if it's at the beginning or end of the utterance\n",
        "    if utterance.startswith(\"|\"):\n",
        "        utterance = utterance[1:]\n",
        "    if utterance.endswith(\"|\"):\n",
        "        utterance = utterance[:-1]\n",
        "\n",
        "    # Check for harsh language and curse words\n",
        "    for word in harsh_language:\n",
        "        if word in utterance.lower():\n",
        "            return None  # Return None if any harsh word is found\n",
        "\n",
        "    return utterance\n",
        "\n",
        "# Apply the function to the utterances and filter out None values\n",
        "cleaned_utterances = [clean_utterance(utterance) for utterance in data['Utterances'] if clean_utterance(utterance) is not None]\n",
        "\n",
        "# Create a new DataFrame with only the cleaned utterances\n",
        "cleaned_df = pd.DataFrame(cleaned_utterances, columns=['Cleaned Utterance'])\n",
        "\n",
        "# Save the cleaned DataFrame to a new CSV file\n",
        "cleaned_df.to_csv(\"/content/cleaned_utterances.csv\", index=False)\n",
        "\n",
        "# Display the cleaned DataFrame\n",
        "print(cleaned_df)\n"
      ],
      "metadata": {
        "colab": {
          "base_uri": "https://localhost:8080/"
        },
        "id": "e3JDc6Iw4gPe",
        "outputId": "1f6c887e-bfeb-486f-efb2-c5d15e65188f"
      },
      "execution_count": 11,
      "outputs": [
        {
          "output_type": "stream",
          "name": "stdout",
          "text": [
            "                                        Cleaned Utterance\n",
            "0       ----------------------------------------------...\n",
            "1       Paying my bill                                ...\n",
            "2       Check on billing                              ...\n",
            "3       The reason my bill went up                    ...\n",
            "4       About my bill                                 ...\n",
            "...                                                   ...\n",
            "204195  I have a I have a bill here from charter spect...\n",
            "204196  See if the phone bill been paid               ...\n",
            "204197  I want to talk about how high my bill is      ...\n",
            "204198  To get my father's bill lowered               ...\n",
            "204199  Pay the last past due bill                    ...\n",
            "\n",
            "[204200 rows x 1 columns]\n"
          ]
        }
      ]
    }
  ]
}