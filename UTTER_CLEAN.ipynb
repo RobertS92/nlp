{
  "nbformat": 4,
  "nbformat_minor": 0,
  "metadata": {
    "colab": {
      "provenance": []
    },
    "kernelspec": {
      "name": "python3",
      "display_name": "Python 3"
    },
    "language_info": {
      "name": "python"
    }
  },
  "cells": [
    {
      "cell_type": "code",
      "execution_count": 2,
      "metadata": {
        "colab": {
          "base_uri": "https://localhost:8080/"
        },
        "id": "mNocJ22BffDe",
        "outputId": "549b6c52-1b11-4f3c-a98b-cfa3751968e9"
      },
      "outputs": [
        {
          "output_type": "stream",
          "name": "stdout",
          "text": [
            "                                               Utterances  \\\n",
            "0       |---------------------------------------------...   \n",
            "1       |Paying my bill                               ...   \n",
            "2       |Check on billing                             ...   \n",
            "3       |The reason my bill went up                   ...   \n",
            "4       |About my bill                                ...   \n",
            "...                                                   ...   \n",
            "205506  |I have a I have a bill here from charter spec...   \n",
            "205507  |See if the phone bill been paid              ...   \n",
            "205508  |I want to talk about how high my bill is     ...   \n",
            "205509  |To get my father's bill lowered              ...   \n",
            "205510  |Pay the last past due bill                   ...   \n",
            "\n",
            "                                        Cleaned Utterance  \n",
            "0       ----------------------------------------------...  \n",
            "1       Paying my bill                                ...  \n",
            "2       Check on billing                              ...  \n",
            "3       The reason my bill went up                    ...  \n",
            "4       About my bill                                 ...  \n",
            "...                                                   ...  \n",
            "205506  I have a I have a bill here from charter spect...  \n",
            "205507  See if the phone bill been paid               ...  \n",
            "205508  I want to talk about how high my bill is      ...  \n",
            "205509  To get my father's bill lowered               ...  \n",
            "205510  Pay the last past due bill                    ...  \n",
            "\n",
            "[204200 rows x 2 columns]\n"
          ]
        }
      ],
      "source": [
        "import pandas as pd\n",
        "\n",
        "# Load the data\n",
        "data = pd.read_csv(\"/content/Bill Transcription Utterances (1) [MConverter.eu] - Bill Transcription Utterances (1) [MConverter.eu].csv.csv\")\n",
        "\n",
        "# Create a DataFrame\n",
        "df = pd.DataFrame(data)\n",
        "\n",
        "# Define a list of harsh language and curse words for filtering\n",
        "harsh_language = [\"shit\", \"whore\", \"bitch\", \"dumb ass\", \"fuck\"]\n",
        "\n",
        "# Function to clean the utterances\n",
        "def clean_utterance(utterance):\n",
        "    # Strictly remove the \"|\" if it's at the beginning of the utterance\n",
        "    if utterance.startswith(\"|\"):\n",
        "        utterance = utterance[1:]\n",
        "\n",
        "    # Check for harsh language and curse words\n",
        "    for word in harsh_language:\n",
        "        if word in utterance.lower():\n",
        "            return None  # Return None if any harsh word is found\n",
        "\n",
        "    return utterance\n",
        "\n",
        "# Apply the function to the 'Utterance' column\n",
        "df['Cleaned Utterance'] = df['Utterances'].apply(clean_utterance)\n",
        "\n",
        "# Remove rows with None values in 'Cleaned Utterance'\n",
        "df.dropna(subset=['Cleaned Utterance'], inplace=True)\n",
        "\n",
        "# Save the cleaned DataFrame to a new CSV file\n",
        "df.to_csv(\"/content/cleaned_utterances.csv\", index=False)\n",
        "\n",
        "# Display the cleaned DataFrame\n",
        "print(df)\n"
      ]
    }
  ]
}